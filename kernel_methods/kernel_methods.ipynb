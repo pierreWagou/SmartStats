{
 "cells": [
  {
   "cell_type": "markdown",
   "metadata": {},
   "source": [
    "# Kernel methods"
   ]
  },
  {
   "cell_type": "markdown",
   "metadata": {},
   "source": [
    "The aim of this project is to improve the accuracy of the SVM (support vector machine) model. This issue has been treated by Chris J.C. Burges and Bernhard Schölkopf in their paper “Improving the Accuracy and Speed ofSupport Vector Machines”, available [at this link](https://papers.nips.cc/paper/1253-improving-the-accuracy-and-speed-of-support-vector-machines.pdf). Whereas they evoke both accuracy and speed improvement, we will only focus on accuracy for this project. "
   ]
  },
  {
   "cell_type": "markdown",
   "metadata": {},
   "source": [
    "## Library importation"
   ]
  },
  {
   "cell_type": "markdown",
   "metadata": {},
   "source": [
    "* time: basic time-related functions\n",
    "* numpy: using mathematical tools on matrix\n",
    "* pandas: data analysis and manipulation tool\n",
    "* matplotlib.pyplot: ploting graphs to represent data\n",
    "* accuracy_score from sklearn.metrics: measure the accuracy of a model\n",
    "* SVC from sklearn.svm: perform Support Vector classification"
   ]
  },
  {
   "cell_type": "code",
   "execution_count": 1,
   "metadata": {},
   "outputs": [],
   "source": [
    "import time\n",
    "import numpy as np\n",
    "import pandas as pd\n",
    "import matplotlib.pyplot as plt\n",
    "from sklearn.metrics import accuracy_score\n",
    "from sklearn.svm import SVC"
   ]
  },
  {
   "cell_type": "markdown",
   "metadata": {},
   "source": [
    "## Dataset preparation"
   ]
  },
  {
   "cell_type": "markdown",
   "metadata": {},
   "source": [
    "Firstly, we read csv files containing training and testing datasets. They are both stored in the data folder. The MNIST database (Modified National Institute of Standards and Technology database) is a large database of handwritten digits that is commonly used for training various image processing systems. It contains 60,000 training images and 10,000 testing images, explained by 784 variables (28x28 pixels). Each row is labelled from 0 to 9 which represents the number they actually depicts."
   ]
  },
  {
   "cell_type": "code",
   "execution_count": 2,
   "metadata": {},
   "outputs": [
    {
     "data": {
      "text/plain": [
       "(60000, 785)"
      ]
     },
     "execution_count": 2,
     "metadata": {},
     "output_type": "execute_result"
    }
   ],
   "source": [
    "train = pd.read_csv('data/mnist_train.csv', header=None) # train set\n",
    "test = pd.read_csv('data/mnist_test.csv', header=None) # test set\n",
    "train.shape"
   ]
  },
  {
   "cell_type": "markdown",
   "metadata": {},
   "source": [
    "We separate the variables from their labels in both training and testing sets. Variables are normalized by dividing them by the maximum RVB value which is 255. \n",
    "\n",
    "Then, we reshape our training data to obtain a visualizable dataset representing 60,000 2D-images of 28x28 pixels and we plot the first one. "
   ]
  },
  {
   "cell_type": "code",
   "execution_count": 3,
   "metadata": {},
   "outputs": [
    {
     "name": "stdout",
     "output_type": "stream",
     "text": [
      "(60000, 28, 28)\n"
     ]
    },
    {
     "data": {
      "image/png": "[encoded data removed]",
      "text/plain": [
       "<Figure size 432x288 with 1 Axes>"
      ]
     },
     "metadata": {
      "needs_background": "light"
     },
     "output_type": "display_data"
    }
   ],
   "source": [
    "max_rgb = 255\n",
    "X_train, y_train = train.drop([0], axis=1) / max_rgb, train[0] # scaling\n",
    "X_test, y_test = test.drop([0], axis=1) / max_rgb, test[0]\n",
    "dim = int(np.sqrt(X_train.shape[-1]))\n",
    "X_train_image = X_train.values.reshape(-1, dim, dim) # reshaping for plotting\n",
    "print(X_train_image.shape)\n",
    "plt.imshow(X_train_image[0])\n",
    "plt.show()"
   ]
  },
  {
   "cell_type": "markdown",
   "metadata": {},
   "source": [
    "## Naive method"
   ]
  },
  {
   "cell_type": "markdown",
   "metadata": {},
   "source": [
    "Now that we have a prepared dataset, we can perform the support vector classification. We begin with the naive method that consists of using a polynomial kernel of degree 5 and a regularized parameter of 10. We fit this model with our training data, and store the resulting support vectors and their index."
   ]
  },
  {
   "cell_type": "code",
   "execution_count": 4,
   "metadata": {},
   "outputs": [
    {
     "data": {
      "text/plain": [
       "(8269, 784)"
      ]
     },
     "execution_count": 4,
     "metadata": {},
     "output_type": "execute_result"
    }
   ],
   "source": [
    "C, kernel, deg, = 10, 'poly', 5\n",
    "svc = SVC(C=C, kernel=kernel, degree=deg)\n",
    "svc.fit(X_train, y_train) # naive training\n",
    "sv_label = y_train[svc.support_] # extraction of the labels corresponding to support vectors\n",
    "sv = svc.support_vectors_ # extraction of support vectors\n",
    "sv.shape"
   ]
  },
  {
   "cell_type": "markdown",
   "metadata": {},
   "source": [
    "Lastly, we measure the prediction time and the accuracy. "
   ]
  },
  {
   "cell_type": "code",
   "execution_count": 5,
   "metadata": {},
   "outputs": [
    {
     "name": "stdout",
     "output_type": "stream",
     "text": [
      "--- 78.70577096939087 seconds ---\n",
      "0.9667\n"
     ]
    }
   ],
   "source": [
    "start_time = time.time()\n",
    "pred = svc.predict(X_test) # naive prediction\n",
    "naive_time = time.time() - start_time # speed comparaison\n",
    "naive_accuracy = accuracy_score(y_test, pred) # accuracy comparaison\n",
    "print(\"--- %s seconds ---\" % naive_time)\n",
    "print(naive_accuracy)"
   ]
  },
  {
   "cell_type": "markdown",
   "metadata": {},
   "source": [
    "The prediction takes some time (more than 1 minute) and reveals an accuracy score of 96.67%. Even if it is already precise, we want to improve this accuracy."
   ]
  },
  {
   "cell_type": "markdown",
   "metadata": {},
   "source": [
    "## Accuracy improvement"
   ]
  },
  {
   "cell_type": "markdown",
   "metadata": {},
   "source": [
    "We will apply the method described in the paper to improve the model accuracy. The first step is to start from the support vectors computed with the naive Support Vector Machine. It is important to remind here what support vectors are. Support vectors are the vectors of data whith which the result will be the same if we remove all the other vectors."
   ]
  },
  {
   "cell_type": "code",
   "execution_count": 6,
   "metadata": {},
   "outputs": [
    {
     "data": {
      "image/png": "[encoded data removed]",
      "text/plain": [
       "<Figure size 432x288 with 1 Axes>"
      ]
     },
     "metadata": {
      "needs_background": "light"
     },
     "output_type": "display_data"
    }
   ],
   "source": [
    "sv_image = sv.reshape(-1, dim, dim) # reshaping for plotting\n",
    "plt.imshow(sv_image[0])\n",
    "plt.show()"
   ]
  },
  {
   "cell_type": "markdown",
   "metadata": {},
   "source": [
    "The methods in the paper involves the artificial creation of a virtual training dataset from the original support vector. Indeed, building the new training set by extending the support vectors instead of the original training set enables an efficient reduction of the number of samples which is critical for the speed of the training. These virtual dataset is generated by extending the support vectors through invariance transformations. Here, the invariance transformation are the shifting of the image represented by the supports vectors respectively to the right, left, down and up. We can visualize this shift by plotting the corresponding images."
   ]
  },
  {
   "cell_type": "code",
   "execution_count": 7,
   "metadata": {},
   "outputs": [
    {
     "data": {
      "image/png": "[encoded data removed]",
      "text/plain": [
       "<Figure size 864x864 with 4 Axes>"
      ]
     },
     "metadata": {
      "needs_background": "light"
     },
     "output_type": "display_data"
    }
   ],
   "source": [
    "offset = 1 # number of pixels for the shift\n",
    "sv_right = np.zeros((sv.shape[0], dim, dim))\n",
    "sv_right[:,:,offset:dim] = sv_image[:,:,0:dim-offset] # right shift\n",
    "sv_left = np.zeros((sv.shape[0], dim, dim))\n",
    "sv_left[:,:,0:dim-offset] = sv_image[:,:,offset:dim] # left shift\n",
    "sv_down = np.zeros((sv.shape[0], dim, dim))\n",
    "sv_down[:,offset:dim,:] = sv_image[:,0:dim-offset,:] # down shift\n",
    "sv_up = np.zeros((sv.shape[0], dim, dim))\n",
    "sv_up[:,0:dim-offset,:] = sv_image[:,offset:dim,:] # up shift\n",
    "fig, axs = plt.subplots(1, 4, tight_layout=True) # plotting the shifted images\n",
    "fig.set_size_inches(12, 12)\n",
    "axs[0].imshow(X=sv_left[0])\n",
    "axs[0].set_title('Left translation')\n",
    "axs[1].imshow(X=sv_up[0])\n",
    "axs[1].set_title('Up translation')\n",
    "axs[2].imshow(X=sv_down[0])\n",
    "axs[2].set_title('Down translation')\n",
    "axs[3].imshow(X=sv_right[0])\n",
    "axs[3].set_title('Right translation')\n",
    "plt.show() # draw plot"
   ]
  },
  {
   "cell_type": "markdown",
   "metadata": {},
   "source": [
    "Finally, we gather the 4 sets of transformed support vectors to create a new virtual traning set. It is reshaped to be trainable. Along these virtual features, we have to create a virtual label set from the original training set in order to match the dimension since it is now the equivalent of 4 sets of the original support vectors. Then, we train the same SVC mode as above on the virtual datas."
   ]
  },
  {
   "cell_type": "code",
   "execution_count": 8,
   "metadata": {},
   "outputs": [
    {
     "data": {
      "text/plain": [
       "SVC(C=10, degree=5, kernel='poly')"
      ]
     },
     "execution_count": 8,
     "metadata": {},
     "output_type": "execute_result"
    }
   ],
   "source": [
    "X_train_virtual = np.concatenate((sv_right, sv_left, sv_up, sv_down), axis=0) # creation of the virual training set\n",
    "X_train_virtual = X_train_virtual.reshape(X_train_virtual.shape[0], -1) # reshaping for training\n",
    "y_train_virtual = np.tile(sv_label, 4) # creation of the virtual label set for training\n",
    "svc.fit(X_train_virtual, y_train_virtual) # improved training"
   ]
  },
  {
   "cell_type": "markdown",
   "metadata": {},
   "source": [
    "We evaluate the speed and accuracy of this new model. "
   ]
  },
  {
   "cell_type": "code",
   "execution_count": 9,
   "metadata": {},
   "outputs": [
    {
     "name": "stdout",
     "output_type": "stream",
     "text": [
      "--- 204.35500383377075 seconds ---\n",
      "0.9782\n"
     ]
    }
   ],
   "source": [
    "start_time = time.time()\n",
    "pred = svc.predict(X_test) # improved prediction\n",
    "improved_time = time.time() - start_time # predic\n",
    "improved_accuracy = accuracy_score(y_test, pred) # accuracy score\n",
    "print(\"--- %s seconds ---\" % improved_time)\n",
    "print(improved_accuracy)"
   ]
  },
  {
   "cell_type": "markdown",
   "metadata": {},
   "source": [
    "We compare the speed and accuracy of the 2 models. Intuitively, we expect to get a more accurate but a slower a prediction."
   ]
  },
  {
   "cell_type": "code",
   "execution_count": 10,
   "metadata": {},
   "outputs": [
    {
     "name": "stdout",
     "output_type": "stream",
     "text": [
      "accuracy improvement: 1.1499999999999955\n",
      "speed: 2.596442 times longer\n"
     ]
    }
   ],
   "source": [
    "print(\"accuracy improvement: %s\" % ((improved_accuracy - naive_accuracy)*100))\n",
    "print(\"speed: %f times longer\" % (improved_time/naive_time))"
   ]
  },
  {
   "cell_type": "markdown",
   "metadata": {},
   "source": [
    "## Speed improvement"
   ]
  },
  {
   "cell_type": "markdown",
   "metadata": {},
   "source": [
    "We did not address it, but the paper also deals with speed reduction, as the virtual support vectors model increases a lot prediction speed. The paper suggests to create a reduced set of minimal size, such that any resulting loss in accuracy remains acceptable. This dimension reduction can be performed with methods such as PCA, PCR, LDA or QDA. "
   ]
  },
  {
   "cell_type": "markdown",
   "metadata": {},
   "source": [
    "## Conclusion"
   ]
  },
  {
   "cell_type": "markdown",
   "metadata": {},
   "source": [
    "By creating 4 sets of virtual support vectors, we succeeded in improving the accuracy of 1.15%. We have pratically shown  that the method illustrated in the paper is more accurate than a \"classical\" SVM."
   ]
  },
  {
   "cell_type": "code",
   "execution_count": null,
   "metadata": {},
   "outputs": [],
   "source": []
  }
 ],
 "metadata": {
  "kernelspec": {
   "display_name": "Python 3",
   "language": "python",
   "name": "python3"
  },
  "language_info": {
   "codemirror_mode": {
    "name": "ipython",
    "version": 3
   },
   "file_extension": ".py",
   "mimetype": "text/x-python",
   "name": "python",
   "nbconvert_exporter": "python",
   "pygments_lexer": "ipython3",
   "version": "3.8.6"
  }
 },
 "nbformat": 4,
 "nbformat_minor": 4
}
